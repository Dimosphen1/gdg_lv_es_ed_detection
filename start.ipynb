{
 "cells": [
  {
   "cell_type": "code",
   "execution_count": 1,
   "id": "78472053-8b32-42ac-b119-3cde26add324",
   "metadata": {},
   "outputs": [],
   "source": [
    "import os\n",
    "\n",
    "\n",
    "DATA_DIR = \"data\"\n",
    "VIDEOS_DIR = os.path.join(DATA_DIR, \"videos\")\n",
    "FILE_LIST_PATH = os.path.join(DATA_DIR, \"file_list\", \"FileList.csv\")"
   ]
  },
  {
   "cell_type": "code",
   "execution_count": 2,
   "id": "c31194f4-144c-4445-a772-604b44bb001d",
   "metadata": {},
   "outputs": [
    {
     "name": "stdout",
     "output_type": "stream",
     "text": [
      "file_list_present=True\n",
      "video_content_count=10032\n"
     ]
    }
   ],
   "source": [
    "def check_data():\n",
    "    file_list_present = os.path.isfile(FILE_LIST_PATH)\n",
    "    video_content_count = len(os.listdir(VIDEOS_DIR))\n",
    "\n",
    "    print(f\"{file_list_present=}\")\n",
    "    print(f\"{video_content_count=}\")\n",
    "\n",
    "check_data()"
   ]
  },
  {
   "cell_type": "code",
   "execution_count": null,
   "id": "8ed9baa2-93e7-4c5c-a9b4-9e280b593abd",
   "metadata": {},
   "outputs": [],
   "source": []
  }
 ],
 "metadata": {
  "kernelspec": {
   "display_name": "Python 3 (ipykernel)",
   "language": "python",
   "name": "python3"
  },
  "language_info": {
   "codemirror_mode": {
    "name": "ipython",
    "version": 3
   },
   "file_extension": ".py",
   "mimetype": "text/x-python",
   "name": "python",
   "nbconvert_exporter": "python",
   "pygments_lexer": "ipython3",
   "version": "3.11.9"
  }
 },
 "nbformat": 4,
 "nbformat_minor": 5
}
